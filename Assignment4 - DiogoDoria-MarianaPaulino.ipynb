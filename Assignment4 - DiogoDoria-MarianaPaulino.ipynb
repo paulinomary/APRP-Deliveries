{
 "cells": [
  {
   "cell_type": "markdown",
   "metadata": {
    "id": "sWcosdx8QfES"
   },
   "source": [
    "---\n",
    "\n",
    "**APRP: 4. Parameter and Structure Learning**\n",
    "\n",
    "---\n"
   ]
  },
  {
   "cell_type": "markdown",
   "metadata": {
    "id": "893jl7ncQfEW"
   },
   "source": [
    "**Contents:**\n",
    "\n",
    "--------\n",
    "1. Short context\n",
    "2. Parameter Learning in a Bayes Net\n",
    "3. Structure Learning in a Bayes Net\n",
    "\n",
    "\n"
   ]
  },
  {
   "cell_type": "markdown",
   "metadata": {
    "id": "2EVJzxi1EbL5"
   },
   "source": [
    "### 1. Short context\n",
    "\n",
    "So far we have been focused on how Bayesian networks efficiently encode a probability distribution over a set of variables.\n",
    "This Assignment will be about obtaining a Bayesian network, given a set of sample data. First we focus on the problem of **parameter Learning** for a given network and secondly on **learning the structure** itself.\n",
    "\n",
    "\n"
   ]
  },
  {
   "cell_type": "markdown",
   "metadata": {
    "id": "oaYg-3040s5U"
   },
   "source": [
    "### 2. Parameter Learning in a Bayes Net\n",
    "## 2.1. Introductory example\n"
   ]
  },
  {
   "cell_type": "code",
   "execution_count": 1,
   "metadata": {
    "colab": {
     "base_uri": "https://localhost:8080/"
    },
    "id": "-oRUtvivQfEV",
    "outputId": "2087a06c-a1e6-44c2-8872-2b5b0cd3b4d2"
   },
   "outputs": [
    {
     "name": "stdout",
     "output_type": "stream",
     "text": [
      "Requirement already satisfied: pgmpy in /Users/marianapaulino/opt/anaconda3/lib/python3.8/site-packages (0.1.22)\n",
      "Requirement already satisfied: scipy in /Users/marianapaulino/opt/anaconda3/lib/python3.8/site-packages (from pgmpy) (1.5.0)\n",
      "Requirement already satisfied: tqdm in /Users/marianapaulino/opt/anaconda3/lib/python3.8/site-packages (from pgmpy) (4.47.0)\n",
      "Requirement already satisfied: torch in /Users/marianapaulino/opt/anaconda3/lib/python3.8/site-packages (from pgmpy) (2.0.0)\n",
      "Requirement already satisfied: networkx in /Users/marianapaulino/opt/anaconda3/lib/python3.8/site-packages (from pgmpy) (2.4)\n",
      "Requirement already satisfied: statsmodels in /Users/marianapaulino/opt/anaconda3/lib/python3.8/site-packages (from pgmpy) (0.11.1)\n",
      "Requirement already satisfied: opt-einsum in /Users/marianapaulino/opt/anaconda3/lib/python3.8/site-packages (from pgmpy) (3.3.0)\n",
      "Requirement already satisfied: joblib in /Users/marianapaulino/opt/anaconda3/lib/python3.8/site-packages (from pgmpy) (1.2.0)\n",
      "Requirement already satisfied: pyparsing in /Users/marianapaulino/opt/anaconda3/lib/python3.8/site-packages (from pgmpy) (2.4.7)\n",
      "Requirement already satisfied: scikit-learn in /Users/marianapaulino/opt/anaconda3/lib/python3.8/site-packages (from pgmpy) (1.1.3)\n",
      "Requirement already satisfied: pandas in /Users/marianapaulino/opt/anaconda3/lib/python3.8/site-packages (from pgmpy) (1.5.1)\n",
      "Requirement already satisfied: numpy in /Users/marianapaulino/opt/anaconda3/lib/python3.8/site-packages (from pgmpy) (1.23.4)\n",
      "Requirement already satisfied: decorator>=4.3.0 in /Users/marianapaulino/opt/anaconda3/lib/python3.8/site-packages (from networkx->pgmpy) (4.4.2)\n",
      "Requirement already satisfied: pytz>=2020.1 in /Users/marianapaulino/opt/anaconda3/lib/python3.8/site-packages (from pandas->pgmpy) (2020.1)\n",
      "Requirement already satisfied: python-dateutil>=2.8.1 in /Users/marianapaulino/opt/anaconda3/lib/python3.8/site-packages (from pandas->pgmpy) (2.8.1)\n",
      "Requirement already satisfied: threadpoolctl>=2.0.0 in /Users/marianapaulino/opt/anaconda3/lib/python3.8/site-packages (from scikit-learn->pgmpy) (2.1.0)\n",
      "Requirement already satisfied: patsy>=0.5 in /Users/marianapaulino/opt/anaconda3/lib/python3.8/site-packages (from statsmodels->pgmpy) (0.5.1)\n",
      "Requirement already satisfied: jinja2 in /Users/marianapaulino/opt/anaconda3/lib/python3.8/site-packages (from torch->pgmpy) (2.11.2)\n",
      "Requirement already satisfied: sympy in /Users/marianapaulino/opt/anaconda3/lib/python3.8/site-packages (from torch->pgmpy) (1.6.1)\n",
      "Requirement already satisfied: typing-extensions in /Users/marianapaulino/opt/anaconda3/lib/python3.8/site-packages (from torch->pgmpy) (4.4.0)\n",
      "Requirement already satisfied: filelock in /Users/marianapaulino/opt/anaconda3/lib/python3.8/site-packages (from torch->pgmpy) (3.0.12)\n",
      "Requirement already satisfied: six in /Users/marianapaulino/opt/anaconda3/lib/python3.8/site-packages (from patsy>=0.5->statsmodels->pgmpy) (1.15.0)\n",
      "Requirement already satisfied: MarkupSafe>=0.23 in /Users/marianapaulino/opt/anaconda3/lib/python3.8/site-packages (from jinja2->torch->pgmpy) (1.1.1)\n",
      "Requirement already satisfied: mpmath>=0.19 in /Users/marianapaulino/opt/anaconda3/lib/python3.8/site-packages (from sympy->torch->pgmpy) (1.1.0)\n",
      "\n",
      "\u001b[1m[\u001b[0m\u001b[34;49mnotice\u001b[0m\u001b[1;39;49m]\u001b[0m\u001b[39;49m A new release of pip available: \u001b[0m\u001b[31;49m22.3.1\u001b[0m\u001b[39;49m -> \u001b[0m\u001b[32;49m23.1.2\u001b[0m\n",
      "\u001b[1m[\u001b[0m\u001b[34;49mnotice\u001b[0m\u001b[1;39;49m]\u001b[0m\u001b[39;49m To update, run: \u001b[0m\u001b[32;49mpip install --upgrade pip\u001b[0m\n"
     ]
    },
    {
     "name": "stderr",
     "output_type": "stream",
     "text": [
      "/Users/marianapaulino/opt/anaconda3/lib/python3.8/site-packages/statsmodels/tsa/base/tsa_model.py:7: FutureWarning: pandas.Int64Index is deprecated and will be removed from pandas in a future version. Use pandas.Index with the appropriate dtype instead.\n",
      "  from pandas import (to_datetime, Int64Index, DatetimeIndex, Period,\n",
      "/Users/marianapaulino/opt/anaconda3/lib/python3.8/site-packages/statsmodels/tsa/base/tsa_model.py:7: FutureWarning: pandas.Float64Index is deprecated and will be removed from pandas in a future version. Use pandas.Index with the appropriate dtype instead.\n",
      "  from pandas import (to_datetime, Int64Index, DatetimeIndex, Period,\n"
     ]
    },
    {
     "name": "stdout",
     "output_type": "stream",
     "text": [
      "+---------------+-----+\n",
      "| fruit(apple)  | 0.5 |\n",
      "+---------------+-----+\n",
      "| fruit(banana) | 0.5 |\n",
      "+---------------+-----+\n",
      "+------------+--------------+-----+---------------+\n",
      "| fruit      | fruit(apple) | ... | fruit(banana) |\n",
      "+------------+--------------+-----+---------------+\n",
      "| size       | size(large)  | ... | size(small)   |\n",
      "+------------+--------------+-----+---------------+\n",
      "| tasty(no)  | 0.25         | ... | 1.0           |\n",
      "+------------+--------------+-----+---------------+\n",
      "| tasty(yes) | 0.75         | ... | 0.0           |\n",
      "+------------+--------------+-----+---------------+\n",
      "+-------------+----------+\n",
      "| size(large) | 0.714286 |\n",
      "+-------------+----------+\n",
      "| size(small) | 0.285714 |\n",
      "+-------------+----------+\n",
      "+---------------+-----+\n",
      "| fruit(apple)  | 0.5 |\n",
      "+---------------+-----+\n",
      "| fruit(banana) | 0.5 |\n",
      "+---------------+-----+\n",
      "+------------+---------------------+-----+--------------------+\n",
      "| fruit      | fruit(apple)        | ... | fruit(banana)      |\n",
      "+------------+---------------------+-----+--------------------+\n",
      "| size       | size(large)         | ... | size(small)        |\n",
      "+------------+---------------------+-----+--------------------+\n",
      "| tasty(no)  | 0.30952380952380953 | ... | 0.7222222222222222 |\n",
      "+------------+---------------------+-----+--------------------+\n",
      "| tasty(yes) | 0.6904761904761905  | ... | 0.2777777777777778 |\n",
      "+------------+---------------------+-----+--------------------+\n",
      "+-------------+----------+\n",
      "| size(large) | 0.657895 |\n",
      "+-------------+----------+\n",
      "| size(small) | 0.342105 |\n",
      "+-------------+----------+\n"
     ]
    },
    {
     "name": "stderr",
     "output_type": "stream",
     "text": [
      "/Users/marianapaulino/opt/anaconda3/lib/python3.8/site-packages/pgmpy/models/BayesianModel.py:8: FutureWarning: BayesianModel has been renamed to BayesianNetwork. Please use BayesianNetwork class, BayesianModel will be removed in future.\n",
      "  warnings.warn(\n"
     ]
    }
   ],
   "source": [
    "!pip install pgmpy\n",
    "#Based on https://pgmpy.org/detailed_notebooks/10.%20Learning%20Bayesian%20Networks%20from%20Data.html\n",
    "import numpy as np\n",
    "import pandas as pd\n",
    "from pgmpy.models import BayesianModel\n",
    "from pgmpy.estimators import BayesianEstimator\n",
    "from pgmpy.estimators import MaximumLikelihoodEstimator\n",
    "\n",
    "# Model\n",
    "data = pd.DataFrame(data={'fruit': [\"banana\", \"apple\", \"banana\", \"apple\", \"banana\",\"apple\", \"banana\",\n",
    "                                    \"apple\", \"apple\", \"apple\", \"banana\", \"banana\", \"apple\", \"banana\",],\n",
    "                          'tasty': [\"yes\", \"no\", \"yes\", \"yes\", \"yes\", \"yes\", \"yes\",\n",
    "                                    \"yes\", \"yes\", \"yes\", \"yes\", \"no\", \"no\", \"no\"],\n",
    "                          'size': [\"large\", \"large\", \"large\", \"small\", \"large\", \"large\", \"large\",\n",
    "                                    \"small\", \"large\", \"large\", \"large\", \"large\", \"small\", \"small\"]})\n",
    "model = BayesianModel([('fruit', 'tasty'), ('size', 'tasty')]) \n",
    "\n",
    "\n",
    "# Using a MLE estimator to obtain the CPDs tables\n",
    "model.fit(data, estimator=MaximumLikelihoodEstimator)\n",
    "for cpd in model.get_cpds():\n",
    "    print(cpd)\n",
    "\n",
    "# Using a Bayesian estimator to obtain the CPDs tables\n",
    "model.fit(data, estimator=BayesianEstimator, prior_type=\"BDeu\")\n",
    "for cpd in model.get_cpds():\n",
    "    print(cpd)\n"
   ]
  },
  {
   "attachments": {},
   "cell_type": "markdown",
   "metadata": {
    "id": "9vwslYvSY3m_"
   },
   "source": [
    "## 2.2. Questions\n",
    "Based on the previous code provide an answer the following questions:\n",
    "\n",
    "1. **For MLE, why small bananas are not tasty?**\n",
    "\n",
    "If we analyse the data, there are two small bananas, and one of them is classified as tasty. Maximum likelihood estimator may have estimated that small bananas are not tasty, as the number of small bananas that are classified as not tasty is higher than the number of small bananas that are classified as tasty.\n",
    "\n",
    "2. **Why the CPDs tables for MLE and Bayesian estimators differ?**\n",
    "\n",
    "On one hand Bayesian estimation involve the incorporation of prior knowledge into the probability estimation process, this estimation tends to produce smoother and more realistic probability distributions (CPDs) especially for small sample sizes. On the other hand, MLE assumes an uniform prior distribution and may overfit the data and produce unrealistic probability distributions (CPDs) especially when there is little data available. The differences in the CPDs origined by these two estimations are origined by the prior information they recquire.\n",
    "\n",
    "3. **What is the goal of the prior_type?**\n",
    "\n",
    "prior_type=\"BDeu\" is an argument used to obtain the CPDs (Conditional Probability Distributions) tables in a Bayesian Network. It specifies the type of prior probability used in the Bayesian Estimator.\n",
    "BDeu (Bayesian Dirichlet equivalent uniform) prior type is a commonly used type prior for Bayesian networks. It is a smoothing technique that avoids probabilities to be zero or one. It allows the Bayesian Estimator to consider the possibility of unseen evidence, avoiding overfitting data."
   ]
  },
  {
   "cell_type": "markdown",
   "metadata": {
    "id": "pZhzhYwmeA12"
   },
   "source": [
    "### 3. Structure Learning\n",
    "## 3.1. Scoring function. Example 1:"
   ]
  },
  {
   "cell_type": "code",
   "execution_count": 2,
   "metadata": {
    "colab": {
     "base_uri": "https://localhost:8080/"
    },
    "id": "97J3Epo-eN7x",
    "outputId": "c7aad9b5-b782-48e3-b998-6f50297e2c53"
   },
   "outputs": [
    {
     "name": "stdout",
     "output_type": "stream",
     "text": [
      "-30.12792467904587\n",
      "-30.3772093643128\n",
      "-32.859257093436106\n",
      "-29.99714276768256\n",
      "-30.551081866620226\n",
      "-32.45409104969264\n"
     ]
    },
    {
     "name": "stderr",
     "output_type": "stream",
     "text": [
      "/Users/marianapaulino/opt/anaconda3/lib/python3.8/site-packages/pgmpy/models/BayesianModel.py:8: FutureWarning: BayesianModel has been renamed to BayesianNetwork. Please use BayesianNetwork class, BayesianModel will be removed in future.\n",
      "  warnings.warn(\n"
     ]
    }
   ],
   "source": [
    "from pgmpy.estimators import BDeuScore, K2Score, BicScore\n",
    "\n",
    "bdeu = BDeuScore(data, equivalent_sample_size=5)\n",
    "k2 = K2Score(data)\n",
    "bic = BicScore(data)\n",
    "\n",
    "model1 = BayesianModel([('fruit', 'tasty'), ('size', 'tasty')]) # fruit -> tasty <- size\n",
    "model2 = BayesianModel([('tasty', 'fruit'), ('tasty', 'size')]) # fruit <- tasty -> size\n",
    "\n",
    "print(bdeu.score(model1))\n",
    "print(k2.score(model1))\n",
    "print(bic.score(model1))\n",
    "\n",
    "print(bdeu.score(model2))\n",
    "print(k2.score(model2))\n",
    "print(bic.score(model2))\n"
   ]
  },
  {
   "cell_type": "markdown",
   "metadata": {
    "id": "wu2kd_jKfi5x"
   },
   "source": [
    "## 3.2. Scoring function. Example 2"
   ]
  },
  {
   "cell_type": "code",
   "execution_count": 3,
   "metadata": {
    "colab": {
     "base_uri": "https://localhost:8080/"
    },
    "id": "ctF-_iT6fR6H",
    "outputId": "5fcfba5b-0f3c-4764-ae0f-efe8469140d1"
   },
   "outputs": [
    {
     "name": "stderr",
     "output_type": "stream",
     "text": [
      "/Users/marianapaulino/opt/anaconda3/lib/python3.8/site-packages/pgmpy/models/BayesianModel.py:8: FutureWarning: BayesianModel has been renamed to BayesianNetwork. Please use BayesianNetwork class, BayesianModel will be removed in future.\n",
      "  warnings.warn(\n"
     ]
    },
    {
     "name": "stdout",
     "output_type": "stream",
     "text": [
      "-13938.443992489887\n",
      "-14329.246642608294\n",
      "-14294.48331237518\n",
      "-20901.906399844847\n",
      "-20928.74658227\n",
      "-20945.950639033526\n"
     ]
    }
   ],
   "source": [
    "# create random data sample with 3 variables, where Z is dependent on X, Y:\n",
    "data = pd.DataFrame(np.random.randint(0, 4, size=(5000, 2)), columns=list('XY'))\n",
    "data['Z'] = data['X'] + data['Y']\n",
    "\n",
    "bdeu = BDeuScore(data, equivalent_sample_size=5)\n",
    "k2 = K2Score(data)\n",
    "bic = BicScore(data)\n",
    "\n",
    "model1 = BayesianModel([('X', 'Z'), ('Y', 'Z')])  # X -> Z <- Y\n",
    "model2 = BayesianModel([('X', 'Z'), ('X', 'Y')])  # Y <- X -> Z\n",
    "\n",
    "\n",
    "print(bdeu.score(model1))\n",
    "print(k2.score(model1))\n",
    "print(bic.score(model1))\n",
    "\n",
    "print(bdeu.score(model2))\n",
    "print(k2.score(model2))\n",
    "print(bic.score(model2))"
   ]
  },
  {
   "cell_type": "markdown",
   "metadata": {
    "id": "OLfrVVX9f3lJ"
   },
   "source": [
    "## 3.3. Putting all toghether.\n",
    "\n",
    "Example with HillClimbSearch and BicScore."
   ]
  },
  {
   "cell_type": "code",
   "execution_count": 4,
   "metadata": {
    "colab": {
     "base_uri": "https://localhost:8080/",
     "height": 67,
     "referenced_widgets": [
      "bd94071e6920400ab88fcf3e87b19fbf",
      "911f154ca7344354a750e4c809af3f80",
      "c26bc40a06a84d4db7309d03847178a3",
      "5e93675489174350a0ce6fc63d497bd1",
      "40e96e07db9f465390c016b521b0cd88",
      "2a98a913b7b54c93a7a3ce7c360c5aad",
      "6c4f4ae417704b278732bf39288679ce",
      "f6e1b2bc31d34bab8f0415227f570e92",
      "a9ab4aafbf064d2d83c0dc7e78ea42d9",
      "7cec650260d54516b080ba41df534efc",
      "725080046e0f42069358c764728d2dd0"
     ]
    },
    "id": "wpW3oAeBf3JF",
    "outputId": "95c6bd56-32a1-4e86-ac3e-9832d4db77c8"
   },
   "outputs": [
    {
     "name": "stderr",
     "output_type": "stream",
     "text": [
      "  0%|          | 5/1000000 [00:00<25:27:50, 10.91it/s]"
     ]
    },
    {
     "name": "stdout",
     "output_type": "stream",
     "text": [
      "[('A', 'B'), ('A', 'C'), ('G', 'A'), ('H', 'A'), ('H', 'G')]\n"
     ]
    },
    {
     "name": "stderr",
     "output_type": "stream",
     "text": [
      "\n"
     ]
    }
   ],
   "source": [
    "from pgmpy.estimators import HillClimbSearch\n",
    "\n",
    "# create some data with dependencies\n",
    "data = pd.DataFrame(np.random.randint(0, 5, size=(2500, 8)), columns=list('ABCDEFGH'))\n",
    "data['A'] += data['B'] + data['C']\n",
    "data['H'] = data['G'] - data['A']\n",
    "\n",
    "hc = HillClimbSearch(data)\n",
    "best_model = hc.estimate(scoring_method=BicScore(data))\n",
    "print(best_model.edges())\n"
   ]
  },
  {
   "attachments": {},
   "cell_type": "markdown",
   "metadata": {
    "id": "ya6VbP4UgREH"
   },
   "source": [
    "## 3.4. Questions\n",
    "Based on the previous code provide an answer the following questions:\n",
    "\n",
    "1. **Analyse the results from 3.1 and 3.2**\n",
    "\n",
    "**3.1** \n",
    "In this dataset we have three columns 'fruit', 'tasty', and 'size' in this dataset we are in understanding the bayesian network structure using three different scoring functions (BDeuScore, K2Score, and BicScore) to score two different network structures. The first structure represents the dependencies as 'fruit' -> 'tasty' <- 'size', and the second represents the dependencies 'tasty' <- 'fruit' -> 'size'.\n",
    "\n",
    "In the first model the scores were: -30.12792467904587 (BDeuScore), -30.3772093643128 (K2Score), and -32.859257093436106 (BicScore). When we applied the same scoring functions to the second, we obtained the following scores: -29.99714276768256 (BDeuScore), -30.551081866620226 (K2Score), and -32.45409104969264 (BicScore).\n",
    "The results suggest that the second model is a better representation of the dependencies this happens because of the directions of the dependencies in this model because the direction of the dependencies in the second model reflects the causal relationships better between the variables.\n",
    "\n",
    "**3.2** \n",
    "In the second dataset we have three variables 'X', 'Y', and 'Z'. Where 'Z' is dependent on 'X' and 'Y'. The goal is to understand the Bayesian network structure that best represents the dependencies between these variables. We used the same three scoring functions as before to score two different network structures. The first structure (model 1) represents the dependencies as 'X' -> 'Z' <- 'Y', and the second structure (model 2) represents the dependencies as 'Y' <- 'X' -> 'Z'. \n",
    "\n",
    "When applying the scoring functions to the first model, we obtained the following scores: -13940.064774913622 (BDeuScore), -14330.964883079389 (K2Score), and -14296.100426036432 (BicScore). And the second model obtained the following scores: -20911.9573808926 (BDeuScore), -20938.776897222077 (K2Score), and -20955.99232141435 (BicScore).\n",
    "The first is a better representation of the dependencies in the data because the direction of the dependencies in model1 better reflects the causal relationships between the variables.\n",
    "\n",
    "2. **Analyse the structure of the obtained network.**\n",
    "\n",
    "**3.1**\n",
    "The obtained structure has two nodes representing the variables \"fruit\" and \"size\", both have directed edge to a third node representing the variable \"tasty\". This structure indicates that both \"fruit\" and \"size\" have a direct influence on the \"tasty\" variable, and that there is no direct relationship between \"fruit\" and \"size\".\n",
    "\n",
    "**3.2**\n",
    "The obtained network structure has three nodes representing the variables \"X\", \"Y\", and \"Z\". There are two possible structures, the obtained scores suggest that the model where \"X\" is the parent of both \"Y\" and \"Z\" is a better fit for the data than the model where \"X\" is only the parent of \"Z\". This structure indicates that both \"X\" and \"Y\" have a direct influence on \"Z\", but that there is no direct relationship between \"X\" and \"Y\". Additionally, \"X\" is the parent of \"Y\", indicating that \"X\" has a direct influence on \"Y\".\n"
   ]
  },
  {
   "cell_type": "markdown",
   "metadata": {
    "id": "tgndj-AJQfEX"
   },
   "source": [
    "### 4. Chalenge\n",
    "\n",
    "\n",
    "1. Consider the file cancer.bif with the cancer disease BN already used.\n",
    "2. Load the network and use the method *inference.likelihood_weighted_sample* to sample a minimumm of 5000 examples.\n",
    "3. Calculate the CPDs and compare with the original ones.\n",
    "4. Apply diferent strategies (scores and parameters) to determine a BN structure. Compare with the original.\n",
    "\n",
    "\n",
    "\n",
    "\n",
    "\n",
    "\n"
   ]
  },
  {
   "cell_type": "code",
   "execution_count": 5,
   "metadata": {},
   "outputs": [],
   "source": [
    "from pgmpy.readwrite import BIFWriter\n",
    "from pgmpy.readwrite import BIFReader\n",
    "\n",
    "\n",
    "asian_model = BIFReader(\"asian_model4.bif\").get_model()"
   ]
  },
  {
   "cell_type": "code",
   "execution_count": 6,
   "metadata": {},
   "outputs": [
    {
     "name": "stdout",
     "output_type": "stream",
     "text": [
      "+---------+------+\n",
      "| asia(0) | 0.99 |\n",
      "+---------+------+\n",
      "| asia(1) | 0.01 |\n",
      "+---------+------+\n",
      "+----------+----------+----------+\n",
      "| smoke    | smoke(0) | smoke(1) |\n",
      "+----------+----------+----------+\n",
      "| bronc(0) | 0.7      | 0.4      |\n",
      "+----------+----------+----------+\n",
      "| bronc(1) | 0.3      | 0.6      |\n",
      "+----------+----------+----------+\n",
      "+---------+-----------+-----------+-----------+-----------+\n",
      "| either  | either(0) | either(0) | either(1) | either(1) |\n",
      "+---------+-----------+-----------+-----------+-----------+\n",
      "| bronc   | bronc(0)  | bronc(1)  | bronc(0)  | bronc(1)  |\n",
      "+---------+-----------+-----------+-----------+-----------+\n",
      "| dysp(0) | 0.9       | 0.3       | 0.2       | 0.1       |\n",
      "+---------+-----------+-----------+-----------+-----------+\n",
      "| dysp(1) | 0.1       | 0.7       | 0.8       | 0.9       |\n",
      "+---------+-----------+-----------+-----------+-----------+\n",
      "+-----------+---------+---------+---------+---------+\n",
      "| tub       | tub(0)  | tub(0)  | tub(1)  | tub(1)  |\n",
      "+-----------+---------+---------+---------+---------+\n",
      "| lung      | lung(0) | lung(1) | lung(0) | lung(1) |\n",
      "+-----------+---------+---------+---------+---------+\n",
      "| either(0) | 1.0     | 0.0     | 0.0     | 0.0     |\n",
      "+-----------+---------+---------+---------+---------+\n",
      "| either(1) | 0.0     | 1.0     | 1.0     | 1.0     |\n",
      "+-----------+---------+---------+---------+---------+\n",
      "+---------+----------+----------+\n",
      "| smoke   | smoke(0) | smoke(1) |\n",
      "+---------+----------+----------+\n",
      "| lung(0) | 0.99     | 0.9      |\n",
      "+---------+----------+----------+\n",
      "| lung(1) | 0.01     | 0.1      |\n",
      "+---------+----------+----------+\n",
      "+----------+-----+\n",
      "| smoke(0) | 0.5 |\n",
      "+----------+-----+\n",
      "| smoke(1) | 0.5 |\n",
      "+----------+-----+\n",
      "+--------+---------+---------+\n",
      "| asia   | asia(0) | asia(1) |\n",
      "+--------+---------+---------+\n",
      "| tub(0) | 0.99    | 0.95    |\n",
      "+--------+---------+---------+\n",
      "| tub(1) | 0.01    | 0.05    |\n",
      "+--------+---------+---------+\n",
      "+---------+-----------+-----------+\n",
      "| either  | either(0) | either(1) |\n",
      "+---------+-----------+-----------+\n",
      "| xray(0) | 0.95      | 0.02      |\n",
      "+---------+-----------+-----------+\n",
      "| xray(1) | 0.05      | 0.98      |\n",
      "+---------+-----------+-----------+\n"
     ]
    }
   ],
   "source": [
    "# CPDs Originais\n",
    "\n",
    "cpds_originais = asian_model.get_cpds()\n",
    "for cpd in asian_model.get_cpds():\n",
    "    print(cpd)\n"
   ]
  },
  {
   "cell_type": "code",
   "execution_count": 7,
   "metadata": {},
   "outputs": [
    {
     "name": "stderr",
     "output_type": "stream",
     "text": [
      "Generating for node: dysp: 100%|██████████| 8/8 [00:00<00:00, 81.62it/s]\n"
     ]
    }
   ],
   "source": [
    "from pgmpy.sampling import BayesianModelSampling as BSM\n",
    "\n",
    "samples = BSM(asian_model).likelihood_weighted_sample(size=5000)"
   ]
  },
  {
   "cell_type": "code",
   "execution_count": 8,
   "metadata": {},
   "outputs": [
    {
     "name": "stdout",
     "output_type": "stream",
     "text": [
      "+---------+--------+\n",
      "| asia(0) | 0.9892 |\n",
      "+---------+--------+\n",
      "| asia(1) | 0.0108 |\n",
      "+---------+--------+\n",
      "+----------+--------------------+--------------------+\n",
      "| smoke    | smoke(0)           | smoke(1)           |\n",
      "+----------+--------------------+--------------------+\n",
      "| bronc(0) | 0.6956865848832607 | 0.4055802668823292 |\n",
      "+----------+--------------------+--------------------+\n",
      "| bronc(1) | 0.3043134151167392 | 0.5944197331176708 |\n",
      "+----------+--------------------+--------------------+\n",
      "+---------+---------------------+-----+---------------------+\n",
      "| bronc   | bronc(0)            | ... | bronc(1)            |\n",
      "+---------+---------------------+-----+---------------------+\n",
      "| either  | either(0)           | ... | either(1)           |\n",
      "+---------+---------------------+-----+---------------------+\n",
      "| dysp(0) | 0.9004559270516718  | ... | 0.12727272727272726 |\n",
      "+---------+---------------------+-----+---------------------+\n",
      "| dysp(1) | 0.09954407294832827 | ... | 0.8727272727272727  |\n",
      "+---------+---------------------+-----+---------------------+\n",
      "+-----------+---------+---------+---------+---------+\n",
      "| lung      | lung(0) | lung(0) | lung(1) | lung(1) |\n",
      "+-----------+---------+---------+---------+---------+\n",
      "| tub       | tub(0)  | tub(1)  | tub(0)  | tub(1)  |\n",
      "+-----------+---------+---------+---------+---------+\n",
      "| either(0) | 1.0     | 0.0     | 0.0     | 0.0     |\n",
      "+-----------+---------+---------+---------+---------+\n",
      "| either(1) | 0.0     | 1.0     | 1.0     | 1.0     |\n",
      "+-----------+---------+---------+---------+---------+\n",
      "+---------+----------------------+---------------------+\n",
      "| smoke   | smoke(0)             | smoke(1)            |\n",
      "+---------+----------------------+---------------------+\n",
      "| lung(0) | 0.9901068460625247   | 0.9082086534573393  |\n",
      "+---------+----------------------+---------------------+\n",
      "| lung(1) | 0.009893153937475268 | 0.09179134654266073 |\n",
      "+---------+----------------------+---------------------+\n",
      "+----------+--------+\n",
      "| smoke(0) | 0.5054 |\n",
      "+----------+--------+\n",
      "| smoke(1) | 0.4946 |\n",
      "+----------+--------+\n",
      "+--------+----------------------+----------------------+\n",
      "| asia   | asia(0)              | asia(1)              |\n",
      "+--------+----------------------+----------------------+\n",
      "| tub(0) | 0.9915082895268904   | 0.9814814814814815   |\n",
      "+--------+----------------------+----------------------+\n",
      "| tub(1) | 0.008491710473109584 | 0.018518518518518517 |\n",
      "+--------+----------------------+----------------------+\n",
      "+---------+---------------------+----------------------+\n",
      "| either  | either(0)           | either(1)            |\n",
      "+---------+---------------------+----------------------+\n",
      "| xray(0) | 0.9473013174670634  | 0.023809523809523808 |\n",
      "+---------+---------------------+----------------------+\n",
      "| xray(1) | 0.05269868253293668 | 0.9761904761904762   |\n",
      "+---------+---------------------+----------------------+\n"
     ]
    }
   ],
   "source": [
    "# Using a MLE estimator to obtain the CPDs tables\n",
    "asian_model.fit(samples, estimator=MaximumLikelihoodEstimator)\n",
    "for cpd in asian_model.get_cpds():\n",
    "    print(cpd)\n"
   ]
  },
  {
   "cell_type": "code",
   "execution_count": 9,
   "metadata": {},
   "outputs": [
    {
     "name": "stdout",
     "output_type": "stream",
     "text": [
      "+---------+-----------+\n",
      "| asia(0) | 0.988711  |\n",
      "+---------+-----------+\n",
      "| asia(1) | 0.0112887 |\n",
      "+---------+-----------+\n",
      "+----------+--------------------+--------------------+\n",
      "| smoke    | smoke(0)           | smoke(1)           |\n",
      "+----------+--------------------+--------------------+\n",
      "| bronc(0) | 0.6954931804704487 | 0.4056756210866492 |\n",
      "+----------+--------------------+--------------------+\n",
      "| bronc(1) | 0.3045068195295513 | 0.5943243789133509 |\n",
      "+----------+--------------------+--------------------+\n",
      "+---------+---------------------+-----+---------------------+\n",
      "| bronc   | bronc(0)            | ... | bronc(1)            |\n",
      "+---------+---------------------+-----+---------------------+\n",
      "| either  | either(0)           | ... | either(1)           |\n",
      "+---------+---------------------+-----+---------------------+\n",
      "| dysp(0) | 0.9002658311971898  | ... | 0.13007518796992482 |\n",
      "+---------+---------------------+-----+---------------------+\n",
      "| dysp(1) | 0.09973416880281022 | ... | 0.8699248120300752  |\n",
      "+---------+---------------------+-----+---------------------+\n",
      "+-----------+-----+--------------------+\n",
      "| lung      | ... | lung(1)            |\n",
      "+-----------+-----+--------------------+\n",
      "| tub       | ... | tub(1)             |\n",
      "+-----------+-----+--------------------+\n",
      "| either(0) | ... | 0.2777777777777778 |\n",
      "+-----------+-----+--------------------+\n",
      "| either(1) | ... | 0.7222222222222222 |\n",
      "+-----------+-----+--------------------+\n",
      "+---------+----------------------+---------------------+\n",
      "| smoke   | smoke(0)             | smoke(1)            |\n",
      "+---------+----------------------+---------------------+\n",
      "| lung(0) | 0.9896224550306385   | 0.9077964047667137  |\n",
      "+---------+----------------------+---------------------+\n",
      "| lung(1) | 0.010377544969361534 | 0.09220359523328621 |\n",
      "+---------+----------------------+---------------------+\n",
      "+----------+----------+\n",
      "| smoke(0) | 0.505395 |\n",
      "+----------+----------+\n",
      "| smoke(1) | 0.494605 |\n",
      "+----------+----------+\n",
      "+--------+---------------------+---------------------+\n",
      "| asia   | asia(0)             | asia(1)             |\n",
      "+--------+---------------------+---------------------+\n",
      "| tub(0) | 0.9912599777710417  | 0.9601769911504425  |\n",
      "+--------+---------------------+---------------------+\n",
      "| tub(1) | 0.00874002222895827 | 0.03982300884955752 |\n",
      "+--------+---------------------+---------------------+\n",
      "+---------+---------------------+---------------------+\n",
      "| either  | either(0)           | either(1)           |\n",
      "+---------+---------------------+---------------------+\n",
      "| xray(0) | 0.947063820749708   | 0.02782462057335582 |\n",
      "+---------+---------------------+---------------------+\n",
      "| xray(1) | 0.05293617925029202 | 0.9721753794266442  |\n",
      "+---------+---------------------+---------------------+\n"
     ]
    }
   ],
   "source": [
    "# Using a Bayesian estimator to obtain the CPDs tables\n",
    "asian_model.fit(samples, estimator=BayesianEstimator, prior_type=\"BDeu\")\n",
    "for cpd in asian_model.get_cpds():\n",
    "    print(cpd)"
   ]
  },
  {
   "attachments": {},
   "cell_type": "markdown",
   "metadata": {},
   "source": [
    "The original values in the CPDs tables are a bit higher (when the value is false) than the values in the Bayesian tables or MLE tables. In these tables the values are more similar and more close. The results of these two approaches don't vary much in the whole set of variables whether it is the xray, asia, smoke and the other ones. All the variables are categorical having binary values, assuming 0 when the value is false and 1 when the value is true meaning that the original table has higher predicting values when they are false."
   ]
  },
  {
   "cell_type": "code",
   "execution_count": 10,
   "metadata": {},
   "outputs": [
    {
     "name": "stdout",
     "output_type": "stream",
     "text": [
      "-11452.310645964219\n",
      "-11451.207067057912\n",
      "-11452.432455260458\n"
     ]
    }
   ],
   "source": [
    "from pgmpy.estimators import BDeuScore, K2Score, BicScore\n",
    "\n",
    "bdeu = BDeuScore(samples, equivalent_sample_size=5)\n",
    "k2 = K2Score(samples)\n",
    "bic = BicScore(samples)\n",
    "\n",
    "model1 = asian_model\n",
    "\n",
    "\n",
    "print(bdeu.score(model1))\n",
    "print(k2.score(model1))\n",
    "print(bic.score(model1))\n",
    "\n"
   ]
  },
  {
   "cell_type": "code",
   "execution_count": 11,
   "metadata": {},
   "outputs": [
    {
     "name": "stderr",
     "output_type": "stream",
     "text": [
      "  0%|          | 9/1000000 [00:01<39:27:01,  7.04it/s] "
     ]
    },
    {
     "name": "stdout",
     "output_type": "stream",
     "text": [
      "[('bronc', 'smoke'), ('dysp', 'bronc'), ('either', 'lung'), ('either', 'xray'), ('either', 'tub'), ('either', 'dysp'), ('either', 'bronc'), ('lung', 'tub'), ('lung', 'smoke')]\n"
     ]
    },
    {
     "name": "stderr",
     "output_type": "stream",
     "text": [
      "\n"
     ]
    }
   ],
   "source": [
    "from pgmpy.estimators import HillClimbSearch\n",
    "\n",
    "\n",
    "hc = HillClimbSearch(samples)\n",
    "best_model = hc.estimate(scoring_method=BicScore(samples))\n",
    "print(best_model.edges())"
   ]
  }
 ],
 "metadata": {
  "colab": {
   "provenance": []
  },
  "kernelspec": {
   "display_name": "Python (myenv)",
   "language": "python",
   "name": "your_conda_env"
  },
  "language_info": {
   "codemirror_mode": {
    "name": "ipython",
    "version": 3
   },
   "file_extension": ".py",
   "mimetype": "text/x-python",
   "name": "python",
   "nbconvert_exporter": "python",
   "pygments_lexer": "ipython3",
   "version": "3.8.3"
  },
  "vscode": {
   "interpreter": {
    "hash": "a1e12ca711f1ce5bbee50b5895dac4085c043e7cbd2f505741fd8ed02e445729"
   }
  },
  "widgets": {
   "application/vnd.jupyter.widget-state+json": {
    "2a98a913b7b54c93a7a3ce7c360c5aad": {
     "model_module": "@jupyter-widgets/base",
     "model_module_version": "1.2.0",
     "model_name": "LayoutModel",
     "state": {
      "_model_module": "@jupyter-widgets/base",
      "_model_module_version": "1.2.0",
      "_model_name": "LayoutModel",
      "_view_count": null,
      "_view_module": "@jupyter-widgets/base",
      "_view_module_version": "1.2.0",
      "_view_name": "LayoutView",
      "align_content": null,
      "align_items": null,
      "align_self": null,
      "border": null,
      "bottom": null,
      "display": null,
      "flex": null,
      "flex_flow": null,
      "grid_area": null,
      "grid_auto_columns": null,
      "grid_auto_flow": null,
      "grid_auto_rows": null,
      "grid_column": null,
      "grid_gap": null,
      "grid_row": null,
      "grid_template_areas": null,
      "grid_template_columns": null,
      "grid_template_rows": null,
      "height": null,
      "justify_content": null,
      "justify_items": null,
      "left": null,
      "margin": null,
      "max_height": null,
      "max_width": null,
      "min_height": null,
      "min_width": null,
      "object_fit": null,
      "object_position": null,
      "order": null,
      "overflow": null,
      "overflow_x": null,
      "overflow_y": null,
      "padding": null,
      "right": null,
      "top": null,
      "visibility": null,
      "width": null
     }
    },
    "40e96e07db9f465390c016b521b0cd88": {
     "model_module": "@jupyter-widgets/base",
     "model_module_version": "1.2.0",
     "model_name": "LayoutModel",
     "state": {
      "_model_module": "@jupyter-widgets/base",
      "_model_module_version": "1.2.0",
      "_model_name": "LayoutModel",
      "_view_count": null,
      "_view_module": "@jupyter-widgets/base",
      "_view_module_version": "1.2.0",
      "_view_name": "LayoutView",
      "align_content": null,
      "align_items": null,
      "align_self": null,
      "border": null,
      "bottom": null,
      "display": null,
      "flex": null,
      "flex_flow": null,
      "grid_area": null,
      "grid_auto_columns": null,
      "grid_auto_flow": null,
      "grid_auto_rows": null,
      "grid_column": null,
      "grid_gap": null,
      "grid_row": null,
      "grid_template_areas": null,
      "grid_template_columns": null,
      "grid_template_rows": null,
      "height": null,
      "justify_content": null,
      "justify_items": null,
      "left": null,
      "margin": null,
      "max_height": null,
      "max_width": null,
      "min_height": null,
      "min_width": null,
      "object_fit": null,
      "object_position": null,
      "order": null,
      "overflow": null,
      "overflow_x": null,
      "overflow_y": null,
      "padding": null,
      "right": null,
      "top": null,
      "visibility": null,
      "width": null
     }
    },
    "5e93675489174350a0ce6fc63d497bd1": {
     "model_module": "@jupyter-widgets/controls",
     "model_module_version": "1.5.0",
     "model_name": "HTMLModel",
     "state": {
      "_dom_classes": [],
      "_model_module": "@jupyter-widgets/controls",
      "_model_module_version": "1.5.0",
      "_model_name": "HTMLModel",
      "_view_count": null,
      "_view_module": "@jupyter-widgets/controls",
      "_view_module_version": "1.5.0",
      "_view_name": "HTMLView",
      "description": "",
      "description_tooltip": null,
      "layout": "IPY_MODEL_7cec650260d54516b080ba41df534efc",
      "placeholder": "​",
      "style": "IPY_MODEL_725080046e0f42069358c764728d2dd0",
      "value": " 6/1000000 [00:00&lt;17:58:57, 15.45it/s]"
     }
    },
    "6c4f4ae417704b278732bf39288679ce": {
     "model_module": "@jupyter-widgets/controls",
     "model_module_version": "1.5.0",
     "model_name": "DescriptionStyleModel",
     "state": {
      "_model_module": "@jupyter-widgets/controls",
      "_model_module_version": "1.5.0",
      "_model_name": "DescriptionStyleModel",
      "_view_count": null,
      "_view_module": "@jupyter-widgets/base",
      "_view_module_version": "1.2.0",
      "_view_name": "StyleView",
      "description_width": ""
     }
    },
    "725080046e0f42069358c764728d2dd0": {
     "model_module": "@jupyter-widgets/controls",
     "model_module_version": "1.5.0",
     "model_name": "DescriptionStyleModel",
     "state": {
      "_model_module": "@jupyter-widgets/controls",
      "_model_module_version": "1.5.0",
      "_model_name": "DescriptionStyleModel",
      "_view_count": null,
      "_view_module": "@jupyter-widgets/base",
      "_view_module_version": "1.2.0",
      "_view_name": "StyleView",
      "description_width": ""
     }
    },
    "7cec650260d54516b080ba41df534efc": {
     "model_module": "@jupyter-widgets/base",
     "model_module_version": "1.2.0",
     "model_name": "LayoutModel",
     "state": {
      "_model_module": "@jupyter-widgets/base",
      "_model_module_version": "1.2.0",
      "_model_name": "LayoutModel",
      "_view_count": null,
      "_view_module": "@jupyter-widgets/base",
      "_view_module_version": "1.2.0",
      "_view_name": "LayoutView",
      "align_content": null,
      "align_items": null,
      "align_self": null,
      "border": null,
      "bottom": null,
      "display": null,
      "flex": null,
      "flex_flow": null,
      "grid_area": null,
      "grid_auto_columns": null,
      "grid_auto_flow": null,
      "grid_auto_rows": null,
      "grid_column": null,
      "grid_gap": null,
      "grid_row": null,
      "grid_template_areas": null,
      "grid_template_columns": null,
      "grid_template_rows": null,
      "height": null,
      "justify_content": null,
      "justify_items": null,
      "left": null,
      "margin": null,
      "max_height": null,
      "max_width": null,
      "min_height": null,
      "min_width": null,
      "object_fit": null,
      "object_position": null,
      "order": null,
      "overflow": null,
      "overflow_x": null,
      "overflow_y": null,
      "padding": null,
      "right": null,
      "top": null,
      "visibility": null,
      "width": null
     }
    },
    "911f154ca7344354a750e4c809af3f80": {
     "model_module": "@jupyter-widgets/controls",
     "model_module_version": "1.5.0",
     "model_name": "HTMLModel",
     "state": {
      "_dom_classes": [],
      "_model_module": "@jupyter-widgets/controls",
      "_model_module_version": "1.5.0",
      "_model_name": "HTMLModel",
      "_view_count": null,
      "_view_module": "@jupyter-widgets/controls",
      "_view_module_version": "1.5.0",
      "_view_name": "HTMLView",
      "description": "",
      "description_tooltip": null,
      "layout": "IPY_MODEL_2a98a913b7b54c93a7a3ce7c360c5aad",
      "placeholder": "​",
      "style": "IPY_MODEL_6c4f4ae417704b278732bf39288679ce",
      "value": "  0%"
     }
    },
    "a9ab4aafbf064d2d83c0dc7e78ea42d9": {
     "model_module": "@jupyter-widgets/controls",
     "model_module_version": "1.5.0",
     "model_name": "ProgressStyleModel",
     "state": {
      "_model_module": "@jupyter-widgets/controls",
      "_model_module_version": "1.5.0",
      "_model_name": "ProgressStyleModel",
      "_view_count": null,
      "_view_module": "@jupyter-widgets/base",
      "_view_module_version": "1.2.0",
      "_view_name": "StyleView",
      "bar_color": null,
      "description_width": ""
     }
    },
    "bd94071e6920400ab88fcf3e87b19fbf": {
     "model_module": "@jupyter-widgets/controls",
     "model_module_version": "1.5.0",
     "model_name": "HBoxModel",
     "state": {
      "_dom_classes": [],
      "_model_module": "@jupyter-widgets/controls",
      "_model_module_version": "1.5.0",
      "_model_name": "HBoxModel",
      "_view_count": null,
      "_view_module": "@jupyter-widgets/controls",
      "_view_module_version": "1.5.0",
      "_view_name": "HBoxView",
      "box_style": "",
      "children": [
       "IPY_MODEL_911f154ca7344354a750e4c809af3f80",
       "IPY_MODEL_c26bc40a06a84d4db7309d03847178a3",
       "IPY_MODEL_5e93675489174350a0ce6fc63d497bd1"
      ],
      "layout": "IPY_MODEL_40e96e07db9f465390c016b521b0cd88"
     }
    },
    "c26bc40a06a84d4db7309d03847178a3": {
     "model_module": "@jupyter-widgets/controls",
     "model_module_version": "1.5.0",
     "model_name": "FloatProgressModel",
     "state": {
      "_dom_classes": [],
      "_model_module": "@jupyter-widgets/controls",
      "_model_module_version": "1.5.0",
      "_model_name": "FloatProgressModel",
      "_view_count": null,
      "_view_module": "@jupyter-widgets/controls",
      "_view_module_version": "1.5.0",
      "_view_name": "ProgressView",
      "bar_style": "danger",
      "description": "",
      "description_tooltip": null,
      "layout": "IPY_MODEL_f6e1b2bc31d34bab8f0415227f570e92",
      "max": 1000000,
      "min": 0,
      "orientation": "horizontal",
      "style": "IPY_MODEL_a9ab4aafbf064d2d83c0dc7e78ea42d9",
      "value": 6
     }
    },
    "f6e1b2bc31d34bab8f0415227f570e92": {
     "model_module": "@jupyter-widgets/base",
     "model_module_version": "1.2.0",
     "model_name": "LayoutModel",
     "state": {
      "_model_module": "@jupyter-widgets/base",
      "_model_module_version": "1.2.0",
      "_model_name": "LayoutModel",
      "_view_count": null,
      "_view_module": "@jupyter-widgets/base",
      "_view_module_version": "1.2.0",
      "_view_name": "LayoutView",
      "align_content": null,
      "align_items": null,
      "align_self": null,
      "border": null,
      "bottom": null,
      "display": null,
      "flex": null,
      "flex_flow": null,
      "grid_area": null,
      "grid_auto_columns": null,
      "grid_auto_flow": null,
      "grid_auto_rows": null,
      "grid_column": null,
      "grid_gap": null,
      "grid_row": null,
      "grid_template_areas": null,
      "grid_template_columns": null,
      "grid_template_rows": null,
      "height": null,
      "justify_content": null,
      "justify_items": null,
      "left": null,
      "margin": null,
      "max_height": null,
      "max_width": null,
      "min_height": null,
      "min_width": null,
      "object_fit": null,
      "object_position": null,
      "order": null,
      "overflow": null,
      "overflow_x": null,
      "overflow_y": null,
      "padding": null,
      "right": null,
      "top": null,
      "visibility": null,
      "width": null
     }
    }
   }
  }
 },
 "nbformat": 4,
 "nbformat_minor": 4
}
