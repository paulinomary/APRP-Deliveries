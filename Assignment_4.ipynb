{
  "cells": [
    {
      "cell_type": "markdown",
      "metadata": {
        "id": "sWcosdx8QfES"
      },
      "source": [
        "---\n",
        "\n",
        "**APRP: 4. Parameter and Structure Learning**\n",
        "\n",
        "---\n"
      ]
    },
    {
      "cell_type": "markdown",
      "metadata": {
        "id": "893jl7ncQfEW"
      },
      "source": [
        "**Contents:**\n",
        "\n",
        "--------\n",
        "1. Short context\n",
        "2. Parameter Learning in a Bayes Net\n",
        "3. Structure Learning in a Bayes Net\n",
        "\n",
        "\n"
      ]
    },
    {
      "cell_type": "markdown",
      "source": [
        "### 1. Short context\n",
        "\n",
        "So far we have been focused on how Bayesian networks efficiently encode a probability distribution over a set of variables.\n",
        "This Assignment will be about obtaining a Bayesian network, given a set of sample data. First we focus on the problem of **parameter Learning** for a given network and secondly on **learning the structure** itself.\n",
        "\n",
        "\n"
      ],
      "metadata": {
        "id": "2EVJzxi1EbL5"
      }
    },
    {
      "cell_type": "markdown",
      "source": [
        "### 2. Parameter Learning in a Bayes Net\n",
        "## 2.1. Introductory example\n"
      ],
      "metadata": {
        "id": "oaYg-3040s5U"
      }
    },
    {
      "cell_type": "code",
      "execution_count": 3,
      "metadata": {
        "id": "-oRUtvivQfEV",
        "colab": {
          "base_uri": "https://localhost:8080/"
        },
        "outputId": "2087a06c-a1e6-44c2-8872-2b5b0cd3b4d2"
      },
      "outputs": [
        {
          "output_type": "stream",
          "name": "stdout",
          "text": [
            "Looking in indexes: https://pypi.org/simple, https://us-python.pkg.dev/colab-wheels/public/simple/\n",
            "Collecting pgmpy\n",
            "  Downloading pgmpy-0.1.22-py3-none-any.whl (1.9 MB)\n",
            "\u001b[2K     \u001b[90m━━━━━━━━━━━━━━━━━━━━━━━━━━━━━━━━━━━━━━━━\u001b[0m \u001b[32m1.9/1.9 MB\u001b[0m \u001b[31m26.7 MB/s\u001b[0m eta \u001b[36m0:00:00\u001b[0m\n",
            "\u001b[?25hRequirement already satisfied: networkx in /usr/local/lib/python3.9/dist-packages (from pgmpy) (3.1)\n",
            "Requirement already satisfied: joblib in /usr/local/lib/python3.9/dist-packages (from pgmpy) (1.2.0)\n",
            "Requirement already satisfied: torch in /usr/local/lib/python3.9/dist-packages (from pgmpy) (2.0.0+cu118)\n",
            "Requirement already satisfied: statsmodels in /usr/local/lib/python3.9/dist-packages (from pgmpy) (0.13.5)\n",
            "Requirement already satisfied: scipy in /usr/local/lib/python3.9/dist-packages (from pgmpy) (1.10.1)\n",
            "Requirement already satisfied: tqdm in /usr/local/lib/python3.9/dist-packages (from pgmpy) (4.65.0)\n",
            "Requirement already satisfied: numpy in /usr/local/lib/python3.9/dist-packages (from pgmpy) (1.22.4)\n",
            "Requirement already satisfied: opt-einsum in /usr/local/lib/python3.9/dist-packages (from pgmpy) (3.3.0)\n",
            "Requirement already satisfied: pandas in /usr/local/lib/python3.9/dist-packages (from pgmpy) (1.5.3)\n",
            "Requirement already satisfied: scikit-learn in /usr/local/lib/python3.9/dist-packages (from pgmpy) (1.2.2)\n",
            "Requirement already satisfied: pyparsing in /usr/local/lib/python3.9/dist-packages (from pgmpy) (3.0.9)\n",
            "Requirement already satisfied: python-dateutil>=2.8.1 in /usr/local/lib/python3.9/dist-packages (from pandas->pgmpy) (2.8.2)\n",
            "Requirement already satisfied: pytz>=2020.1 in /usr/local/lib/python3.9/dist-packages (from pandas->pgmpy) (2022.7.1)\n",
            "Requirement already satisfied: threadpoolctl>=2.0.0 in /usr/local/lib/python3.9/dist-packages (from scikit-learn->pgmpy) (3.1.0)\n",
            "Requirement already satisfied: packaging>=21.3 in /usr/local/lib/python3.9/dist-packages (from statsmodels->pgmpy) (23.0)\n",
            "Requirement already satisfied: patsy>=0.5.2 in /usr/local/lib/python3.9/dist-packages (from statsmodels->pgmpy) (0.5.3)\n",
            "Requirement already satisfied: typing-extensions in /usr/local/lib/python3.9/dist-packages (from torch->pgmpy) (4.5.0)\n",
            "Requirement already satisfied: jinja2 in /usr/local/lib/python3.9/dist-packages (from torch->pgmpy) (3.1.2)\n",
            "Requirement already satisfied: sympy in /usr/local/lib/python3.9/dist-packages (from torch->pgmpy) (1.11.1)\n",
            "Requirement already satisfied: triton==2.0.0 in /usr/local/lib/python3.9/dist-packages (from torch->pgmpy) (2.0.0)\n",
            "Requirement already satisfied: filelock in /usr/local/lib/python3.9/dist-packages (from torch->pgmpy) (3.11.0)\n",
            "Requirement already satisfied: cmake in /usr/local/lib/python3.9/dist-packages (from triton==2.0.0->torch->pgmpy) (3.25.2)\n",
            "Requirement already satisfied: lit in /usr/local/lib/python3.9/dist-packages (from triton==2.0.0->torch->pgmpy) (16.0.1)\n",
            "Requirement already satisfied: six in /usr/local/lib/python3.9/dist-packages (from patsy>=0.5.2->statsmodels->pgmpy) (1.16.0)\n",
            "Requirement already satisfied: MarkupSafe>=2.0 in /usr/local/lib/python3.9/dist-packages (from jinja2->torch->pgmpy) (2.1.2)\n",
            "Requirement already satisfied: mpmath>=0.19 in /usr/local/lib/python3.9/dist-packages (from sympy->torch->pgmpy) (1.3.0)\n",
            "Installing collected packages: pgmpy\n",
            "Successfully installed pgmpy-0.1.22\n",
            "+---------------+-----+\n",
            "| fruit(apple)  | 0.5 |\n",
            "+---------------+-----+\n",
            "| fruit(banana) | 0.5 |\n",
            "+---------------+-----+\n",
            "+------------+--------------+-----+---------------+\n",
            "| fruit      | fruit(apple) | ... | fruit(banana) |\n",
            "+------------+--------------+-----+---------------+\n",
            "| size       | size(large)  | ... | size(small)   |\n",
            "+------------+--------------+-----+---------------+\n",
            "| tasty(no)  | 0.25         | ... | 1.0           |\n",
            "+------------+--------------+-----+---------------+\n",
            "| tasty(yes) | 0.75         | ... | 0.0           |\n",
            "+------------+--------------+-----+---------------+\n",
            "+-------------+----------+\n",
            "| size(large) | 0.714286 |\n",
            "+-------------+----------+\n",
            "| size(small) | 0.285714 |\n",
            "+-------------+----------+\n",
            "+---------------+-----+\n",
            "| fruit(apple)  | 0.5 |\n",
            "+---------------+-----+\n",
            "| fruit(banana) | 0.5 |\n",
            "+---------------+-----+\n",
            "+------------+---------------------+-----+--------------------+\n",
            "| fruit      | fruit(apple)        | ... | fruit(banana)      |\n",
            "+------------+---------------------+-----+--------------------+\n",
            "| size       | size(large)         | ... | size(small)        |\n",
            "+------------+---------------------+-----+--------------------+\n",
            "| tasty(no)  | 0.30952380952380953 | ... | 0.7222222222222222 |\n",
            "+------------+---------------------+-----+--------------------+\n",
            "| tasty(yes) | 0.6904761904761905  | ... | 0.2777777777777778 |\n",
            "+------------+---------------------+-----+--------------------+\n",
            "+-------------+----------+\n",
            "| size(large) | 0.657895 |\n",
            "+-------------+----------+\n",
            "| size(small) | 0.342105 |\n",
            "+-------------+----------+\n"
          ]
        },
        {
          "output_type": "stream",
          "name": "stderr",
          "text": [
            "/usr/local/lib/python3.9/dist-packages/pgmpy/models/BayesianModel.py:8: FutureWarning: BayesianModel has been renamed to BayesianNetwork. Please use BayesianNetwork class, BayesianModel will be removed in future.\n",
            "  warnings.warn(\n"
          ]
        }
      ],
      "source": [
        "!pip install pgmpy\n",
        "#Based on https://pgmpy.org/detailed_notebooks/10.%20Learning%20Bayesian%20Networks%20from%20Data.html\n",
        "import numpy as np\n",
        "import pandas as pd\n",
        "from pgmpy.models import BayesianModel\n",
        "from pgmpy.estimators import BayesianEstimator\n",
        "from pgmpy.estimators import MaximumLikelihoodEstimator\n",
        "\n",
        "# Model\n",
        "data = pd.DataFrame(data={'fruit': [\"banana\", \"apple\", \"banana\", \"apple\", \"banana\",\"apple\", \"banana\",\n",
        "                                    \"apple\", \"apple\", \"apple\", \"banana\", \"banana\", \"apple\", \"banana\",],\n",
        "                          'tasty': [\"yes\", \"no\", \"yes\", \"yes\", \"yes\", \"yes\", \"yes\",\n",
        "                                    \"yes\", \"yes\", \"yes\", \"yes\", \"no\", \"no\", \"no\"],\n",
        "                          'size': [\"large\", \"large\", \"large\", \"small\", \"large\", \"large\", \"large\",\n",
        "                                    \"small\", \"large\", \"large\", \"large\", \"large\", \"small\", \"small\"]})\n",
        "model = BayesianModel([('fruit', 'tasty'), ('size', 'tasty')]) \n",
        "\n",
        "\n",
        "# Using a MLE estimator to obtain the CPDs tables\n",
        "model.fit(data, estimator=MaximumLikelihoodEstimator)\n",
        "for cpd in model.get_cpds():\n",
        "    print(cpd)\n",
        "\n",
        "# Using a Bayesian estimator to obtain the CPDs tables\n",
        "model.fit(data, estimator=BayesianEstimator, prior_type=\"BDeu\")\n",
        "for cpd in model.get_cpds():\n",
        "    print(cpd)\n"
      ]
    },
    {
      "cell_type": "markdown",
      "source": [
        "## 2.2. Questions\n",
        "Based on the previous code provide an answer the following questions:\n",
        "\n",
        "1. For MLE, why small bananas are not tasty?\n",
        "2. Why the CPDs tables for MLE and Bayesian estimators differ?\n",
        "3. What is the goal of the *prior_type*?"
      ],
      "metadata": {
        "id": "9vwslYvSY3m_"
      }
    },
    {
      "cell_type": "markdown",
      "source": [
        "### 3. Structure Learning\n",
        "## 3.1. Scoring function. Example 1:"
      ],
      "metadata": {
        "id": "pZhzhYwmeA12"
      }
    },
    {
      "cell_type": "code",
      "source": [
        "from pgmpy.estimators import BDeuScore, K2Score, BicScore\n",
        "\n",
        "bdeu = BDeuScore(data, equivalent_sample_size=5)\n",
        "k2 = K2Score(data)\n",
        "bic = BicScore(data)\n",
        "\n",
        "model1 = BayesianModel([('fruit', 'tasty'), ('size', 'tasty')]) # fruit -> tasty <- size\n",
        "model2 = BayesianModel([('tasty', 'fruit'), ('tasty', 'size')]) # fruit <- tasty -> size\n",
        "\n",
        "print(bdeu.score(model1))\n",
        "print(k2.score(model1))\n",
        "print(bic.score(model1))\n",
        "\n",
        "print(bdeu.score(model2))\n",
        "print(k2.score(model2))\n",
        "print(bic.score(model2))\n"
      ],
      "metadata": {
        "colab": {
          "base_uri": "https://localhost:8080/"
        },
        "id": "97J3Epo-eN7x",
        "outputId": "c7aad9b5-b782-48e3-b998-6f50297e2c53"
      },
      "execution_count": 4,
      "outputs": [
        {
          "output_type": "stream",
          "name": "stderr",
          "text": [
            "/usr/local/lib/python3.9/dist-packages/pgmpy/models/BayesianModel.py:8: FutureWarning: BayesianModel has been renamed to BayesianNetwork. Please use BayesianNetwork class, BayesianModel will be removed in future.\n",
            "  warnings.warn(\n"
          ]
        },
        {
          "output_type": "stream",
          "name": "stdout",
          "text": [
            "-30.12792467904587\n",
            "-30.3772093643128\n",
            "-32.859257093436106\n",
            "-29.99714276768256\n",
            "-30.551081866620226\n",
            "-32.45409104969264\n"
          ]
        }
      ]
    },
    {
      "cell_type": "markdown",
      "source": [
        "## 3.2. Scoring function. Example 2"
      ],
      "metadata": {
        "id": "wu2kd_jKfi5x"
      }
    },
    {
      "cell_type": "code",
      "source": [
        "# create random data sample with 3 variables, where Z is dependent on X, Y:\n",
        "data = pd.DataFrame(np.random.randint(0, 4, size=(5000, 2)), columns=list('XY'))\n",
        "data['Z'] = data['X'] + data['Y']\n",
        "\n",
        "bdeu = BDeuScore(data, equivalent_sample_size=5)\n",
        "k2 = K2Score(data)\n",
        "bic = BicScore(data)\n",
        "\n",
        "model1 = BayesianModel([('X', 'Z'), ('Y', 'Z')])  # X -> Z <- Y\n",
        "model2 = BayesianModel([('X', 'Z'), ('X', 'Y')])  # Y <- X -> Z\n",
        "\n",
        "\n",
        "print(bdeu.score(model1))\n",
        "print(k2.score(model1))\n",
        "print(bic.score(model1))\n",
        "\n",
        "print(bdeu.score(model2))\n",
        "print(k2.score(model2))\n",
        "print(bic.score(model2))"
      ],
      "metadata": {
        "colab": {
          "base_uri": "https://localhost:8080/"
        },
        "id": "ctF-_iT6fR6H",
        "outputId": "5fcfba5b-0f3c-4764-ae0f-efe8469140d1"
      },
      "execution_count": 5,
      "outputs": [
        {
          "output_type": "stream",
          "name": "stdout",
          "text": [
            "-13940.064774913622\n",
            "-14330.964883079389\n",
            "-14296.100426036432\n",
            "-20911.9573808926\n",
            "-20938.776897222077\n",
            "-20955.99232141435\n"
          ]
        },
        {
          "output_type": "stream",
          "name": "stderr",
          "text": [
            "/usr/local/lib/python3.9/dist-packages/pgmpy/models/BayesianModel.py:8: FutureWarning: BayesianModel has been renamed to BayesianNetwork. Please use BayesianNetwork class, BayesianModel will be removed in future.\n",
            "  warnings.warn(\n"
          ]
        }
      ]
    },
    {
      "cell_type": "markdown",
      "source": [
        "## 3.3. Putting all toghether.\n",
        "\n",
        "Example with HillClimbSearch and BicScore."
      ],
      "metadata": {
        "id": "OLfrVVX9f3lJ"
      }
    },
    {
      "cell_type": "code",
      "source": [
        "from pgmpy.estimators import HillClimbSearch\n",
        "\n",
        "# create some data with dependencies\n",
        "data = pd.DataFrame(np.random.randint(0, 5, size=(2500, 8)), columns=list('ABCDEFGH'))\n",
        "data['A'] += data['B'] + data['C']\n",
        "data['H'] = data['G'] - data['A']\n",
        "\n",
        "hc = HillClimbSearch(data)\n",
        "best_model = hc.estimate(scoring_method=BicScore(data))\n",
        "print(best_model.edges())\n"
      ],
      "metadata": {
        "colab": {
          "base_uri": "https://localhost:8080/",
          "height": 67,
          "referenced_widgets": [
            "bd94071e6920400ab88fcf3e87b19fbf",
            "911f154ca7344354a750e4c809af3f80",
            "c26bc40a06a84d4db7309d03847178a3",
            "5e93675489174350a0ce6fc63d497bd1",
            "40e96e07db9f465390c016b521b0cd88",
            "2a98a913b7b54c93a7a3ce7c360c5aad",
            "6c4f4ae417704b278732bf39288679ce",
            "f6e1b2bc31d34bab8f0415227f570e92",
            "a9ab4aafbf064d2d83c0dc7e78ea42d9",
            "7cec650260d54516b080ba41df534efc",
            "725080046e0f42069358c764728d2dd0"
          ]
        },
        "id": "wpW3oAeBf3JF",
        "outputId": "95c6bd56-32a1-4e86-ac3e-9832d4db77c8"
      },
      "execution_count": null,
      "outputs": [
        {
          "output_type": "display_data",
          "data": {
            "text/plain": [
              "  0%|          | 0/1000000 [00:00<?, ?it/s]"
            ],
            "application/vnd.jupyter.widget-view+json": {
              "version_major": 2,
              "version_minor": 0,
              "model_id": "bd94071e6920400ab88fcf3e87b19fbf"
            }
          },
          "metadata": {}
        },
        {
          "output_type": "stream",
          "name": "stdout",
          "text": [
            "[('A', 'C'), ('A', 'B'), ('B', 'C'), ('G', 'A'), ('H', 'A'), ('H', 'G')]\n"
          ]
        }
      ]
    },
    {
      "cell_type": "markdown",
      "source": [
        "## 3.4. Questions\n",
        "Based on the previous code provide an answer the following questions:\n",
        "\n",
        "1. Analyse the results from 3.1 and 3.2\n",
        "2. Analyse the structure of the obtained network.\n"
      ],
      "metadata": {
        "id": "ya6VbP4UgREH"
      }
    },
    {
      "cell_type": "markdown",
      "metadata": {
        "id": "tgndj-AJQfEX"
      },
      "source": [
        "### 4. Chalenge\n",
        "\n",
        "\n",
        "1. Consider the file cancer.bif with the cancer disease BN already used.\n",
        "2. Load the network and use the method *inference.likelihood_weighted_sample* to sample a minimumm of 5000 examples.\n",
        "3. Calculate the CPDs and compare with the original ones.\n",
        "4. Apply diferent strategies (scores and parameters) to determine a BN structure. Compare with the original.\n",
        "\n",
        "\n",
        "\n",
        "\n",
        "\n",
        "\n"
      ]
    }
  ],
  "metadata": {
    "kernelspec": {
      "display_name": "Python 3",
      "language": "python",
      "name": "python3"
    },
    "language_info": {
      "codemirror_mode": {
        "name": "ipython",
        "version": 3
      },
      "file_extension": ".py",
      "mimetype": "text/x-python",
      "name": "python",
      "nbconvert_exporter": "python",
      "pygments_lexer": "ipython3",
      "version": "3.8.10"
    },
    "colab": {
      "provenance": []
    },
    "widgets": {
      "application/vnd.jupyter.widget-state+json": {
        "bd94071e6920400ab88fcf3e87b19fbf": {
          "model_module": "@jupyter-widgets/controls",
          "model_name": "HBoxModel",
          "model_module_version": "1.5.0",
          "state": {
            "_dom_classes": [],
            "_model_module": "@jupyter-widgets/controls",
            "_model_module_version": "1.5.0",
            "_model_name": "HBoxModel",
            "_view_count": null,
            "_view_module": "@jupyter-widgets/controls",
            "_view_module_version": "1.5.0",
            "_view_name": "HBoxView",
            "box_style": "",
            "children": [
              "IPY_MODEL_911f154ca7344354a750e4c809af3f80",
              "IPY_MODEL_c26bc40a06a84d4db7309d03847178a3",
              "IPY_MODEL_5e93675489174350a0ce6fc63d497bd1"
            ],
            "layout": "IPY_MODEL_40e96e07db9f465390c016b521b0cd88"
          }
        },
        "911f154ca7344354a750e4c809af3f80": {
          "model_module": "@jupyter-widgets/controls",
          "model_name": "HTMLModel",
          "model_module_version": "1.5.0",
          "state": {
            "_dom_classes": [],
            "_model_module": "@jupyter-widgets/controls",
            "_model_module_version": "1.5.0",
            "_model_name": "HTMLModel",
            "_view_count": null,
            "_view_module": "@jupyter-widgets/controls",
            "_view_module_version": "1.5.0",
            "_view_name": "HTMLView",
            "description": "",
            "description_tooltip": null,
            "layout": "IPY_MODEL_2a98a913b7b54c93a7a3ce7c360c5aad",
            "placeholder": "​",
            "style": "IPY_MODEL_6c4f4ae417704b278732bf39288679ce",
            "value": "  0%"
          }
        },
        "c26bc40a06a84d4db7309d03847178a3": {
          "model_module": "@jupyter-widgets/controls",
          "model_name": "FloatProgressModel",
          "model_module_version": "1.5.0",
          "state": {
            "_dom_classes": [],
            "_model_module": "@jupyter-widgets/controls",
            "_model_module_version": "1.5.0",
            "_model_name": "FloatProgressModel",
            "_view_count": null,
            "_view_module": "@jupyter-widgets/controls",
            "_view_module_version": "1.5.0",
            "_view_name": "ProgressView",
            "bar_style": "danger",
            "description": "",
            "description_tooltip": null,
            "layout": "IPY_MODEL_f6e1b2bc31d34bab8f0415227f570e92",
            "max": 1000000,
            "min": 0,
            "orientation": "horizontal",
            "style": "IPY_MODEL_a9ab4aafbf064d2d83c0dc7e78ea42d9",
            "value": 6
          }
        },
        "5e93675489174350a0ce6fc63d497bd1": {
          "model_module": "@jupyter-widgets/controls",
          "model_name": "HTMLModel",
          "model_module_version": "1.5.0",
          "state": {
            "_dom_classes": [],
            "_model_module": "@jupyter-widgets/controls",
            "_model_module_version": "1.5.0",
            "_model_name": "HTMLModel",
            "_view_count": null,
            "_view_module": "@jupyter-widgets/controls",
            "_view_module_version": "1.5.0",
            "_view_name": "HTMLView",
            "description": "",
            "description_tooltip": null,
            "layout": "IPY_MODEL_7cec650260d54516b080ba41df534efc",
            "placeholder": "​",
            "style": "IPY_MODEL_725080046e0f42069358c764728d2dd0",
            "value": " 6/1000000 [00:00&lt;17:58:57, 15.45it/s]"
          }
        },
        "40e96e07db9f465390c016b521b0cd88": {
          "model_module": "@jupyter-widgets/base",
          "model_name": "LayoutModel",
          "model_module_version": "1.2.0",
          "state": {
            "_model_module": "@jupyter-widgets/base",
            "_model_module_version": "1.2.0",
            "_model_name": "LayoutModel",
            "_view_count": null,
            "_view_module": "@jupyter-widgets/base",
            "_view_module_version": "1.2.0",
            "_view_name": "LayoutView",
            "align_content": null,
            "align_items": null,
            "align_self": null,
            "border": null,
            "bottom": null,
            "display": null,
            "flex": null,
            "flex_flow": null,
            "grid_area": null,
            "grid_auto_columns": null,
            "grid_auto_flow": null,
            "grid_auto_rows": null,
            "grid_column": null,
            "grid_gap": null,
            "grid_row": null,
            "grid_template_areas": null,
            "grid_template_columns": null,
            "grid_template_rows": null,
            "height": null,
            "justify_content": null,
            "justify_items": null,
            "left": null,
            "margin": null,
            "max_height": null,
            "max_width": null,
            "min_height": null,
            "min_width": null,
            "object_fit": null,
            "object_position": null,
            "order": null,
            "overflow": null,
            "overflow_x": null,
            "overflow_y": null,
            "padding": null,
            "right": null,
            "top": null,
            "visibility": null,
            "width": null
          }
        },
        "2a98a913b7b54c93a7a3ce7c360c5aad": {
          "model_module": "@jupyter-widgets/base",
          "model_name": "LayoutModel",
          "model_module_version": "1.2.0",
          "state": {
            "_model_module": "@jupyter-widgets/base",
            "_model_module_version": "1.2.0",
            "_model_name": "LayoutModel",
            "_view_count": null,
            "_view_module": "@jupyter-widgets/base",
            "_view_module_version": "1.2.0",
            "_view_name": "LayoutView",
            "align_content": null,
            "align_items": null,
            "align_self": null,
            "border": null,
            "bottom": null,
            "display": null,
            "flex": null,
            "flex_flow": null,
            "grid_area": null,
            "grid_auto_columns": null,
            "grid_auto_flow": null,
            "grid_auto_rows": null,
            "grid_column": null,
            "grid_gap": null,
            "grid_row": null,
            "grid_template_areas": null,
            "grid_template_columns": null,
            "grid_template_rows": null,
            "height": null,
            "justify_content": null,
            "justify_items": null,
            "left": null,
            "margin": null,
            "max_height": null,
            "max_width": null,
            "min_height": null,
            "min_width": null,
            "object_fit": null,
            "object_position": null,
            "order": null,
            "overflow": null,
            "overflow_x": null,
            "overflow_y": null,
            "padding": null,
            "right": null,
            "top": null,
            "visibility": null,
            "width": null
          }
        },
        "6c4f4ae417704b278732bf39288679ce": {
          "model_module": "@jupyter-widgets/controls",
          "model_name": "DescriptionStyleModel",
          "model_module_version": "1.5.0",
          "state": {
            "_model_module": "@jupyter-widgets/controls",
            "_model_module_version": "1.5.0",
            "_model_name": "DescriptionStyleModel",
            "_view_count": null,
            "_view_module": "@jupyter-widgets/base",
            "_view_module_version": "1.2.0",
            "_view_name": "StyleView",
            "description_width": ""
          }
        },
        "f6e1b2bc31d34bab8f0415227f570e92": {
          "model_module": "@jupyter-widgets/base",
          "model_name": "LayoutModel",
          "model_module_version": "1.2.0",
          "state": {
            "_model_module": "@jupyter-widgets/base",
            "_model_module_version": "1.2.0",
            "_model_name": "LayoutModel",
            "_view_count": null,
            "_view_module": "@jupyter-widgets/base",
            "_view_module_version": "1.2.0",
            "_view_name": "LayoutView",
            "align_content": null,
            "align_items": null,
            "align_self": null,
            "border": null,
            "bottom": null,
            "display": null,
            "flex": null,
            "flex_flow": null,
            "grid_area": null,
            "grid_auto_columns": null,
            "grid_auto_flow": null,
            "grid_auto_rows": null,
            "grid_column": null,
            "grid_gap": null,
            "grid_row": null,
            "grid_template_areas": null,
            "grid_template_columns": null,
            "grid_template_rows": null,
            "height": null,
            "justify_content": null,
            "justify_items": null,
            "left": null,
            "margin": null,
            "max_height": null,
            "max_width": null,
            "min_height": null,
            "min_width": null,
            "object_fit": null,
            "object_position": null,
            "order": null,
            "overflow": null,
            "overflow_x": null,
            "overflow_y": null,
            "padding": null,
            "right": null,
            "top": null,
            "visibility": null,
            "width": null
          }
        },
        "a9ab4aafbf064d2d83c0dc7e78ea42d9": {
          "model_module": "@jupyter-widgets/controls",
          "model_name": "ProgressStyleModel",
          "model_module_version": "1.5.0",
          "state": {
            "_model_module": "@jupyter-widgets/controls",
            "_model_module_version": "1.5.0",
            "_model_name": "ProgressStyleModel",
            "_view_count": null,
            "_view_module": "@jupyter-widgets/base",
            "_view_module_version": "1.2.0",
            "_view_name": "StyleView",
            "bar_color": null,
            "description_width": ""
          }
        },
        "7cec650260d54516b080ba41df534efc": {
          "model_module": "@jupyter-widgets/base",
          "model_name": "LayoutModel",
          "model_module_version": "1.2.0",
          "state": {
            "_model_module": "@jupyter-widgets/base",
            "_model_module_version": "1.2.0",
            "_model_name": "LayoutModel",
            "_view_count": null,
            "_view_module": "@jupyter-widgets/base",
            "_view_module_version": "1.2.0",
            "_view_name": "LayoutView",
            "align_content": null,
            "align_items": null,
            "align_self": null,
            "border": null,
            "bottom": null,
            "display": null,
            "flex": null,
            "flex_flow": null,
            "grid_area": null,
            "grid_auto_columns": null,
            "grid_auto_flow": null,
            "grid_auto_rows": null,
            "grid_column": null,
            "grid_gap": null,
            "grid_row": null,
            "grid_template_areas": null,
            "grid_template_columns": null,
            "grid_template_rows": null,
            "height": null,
            "justify_content": null,
            "justify_items": null,
            "left": null,
            "margin": null,
            "max_height": null,
            "max_width": null,
            "min_height": null,
            "min_width": null,
            "object_fit": null,
            "object_position": null,
            "order": null,
            "overflow": null,
            "overflow_x": null,
            "overflow_y": null,
            "padding": null,
            "right": null,
            "top": null,
            "visibility": null,
            "width": null
          }
        },
        "725080046e0f42069358c764728d2dd0": {
          "model_module": "@jupyter-widgets/controls",
          "model_name": "DescriptionStyleModel",
          "model_module_version": "1.5.0",
          "state": {
            "_model_module": "@jupyter-widgets/controls",
            "_model_module_version": "1.5.0",
            "_model_name": "DescriptionStyleModel",
            "_view_count": null,
            "_view_module": "@jupyter-widgets/base",
            "_view_module_version": "1.2.0",
            "_view_name": "StyleView",
            "description_width": ""
          }
        }
      }
    }
  },
  "nbformat": 4,
  "nbformat_minor": 0
}